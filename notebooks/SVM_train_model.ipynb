{
  "nbformat": 4,
  "nbformat_minor": 0,
  "metadata": {
    "colab": {
      "name": "SVM_train_model.ipynb",
      "provenance": []
    },
    "kernelspec": {
      "name": "python3",
      "display_name": "Python 3"
    },
    "language_info": {
      "name": "python"
    }
  },
  "cells": [
    {
      "cell_type": "markdown",
      "metadata": {
        "id": "pOaTJHl9nXcf"
      },
      "source": [
        "# Support Vector Machine "
      ]
    },
    {
      "cell_type": "code",
      "metadata": {
        "id": "Z9fL9ImwY8Ca"
      },
      "source": [
        "# General Import\n",
        "import glob\n",
        "import os\n",
        "import pathlib\n",
        "\n",
        "import matplotlib.pyplot as plt\n",
        "import numpy as np\n",
        "import pandas as pd\n",
        "import seaborn as sns\n",
        "from sklearn.model_selection import train_test_split\n",
        "import gzip, pickle, pickletools\n",
        "from sklearn.svm import SVC\n",
        "from PIL import Image"
      ],
      "execution_count": 42,
      "outputs": []
    },
    {
      "cell_type": "code",
      "metadata": {
        "colab": {
          "base_uri": "https://localhost:8080/"
        },
        "id": "-5XF-HOPZGNQ",
        "outputId": "758989aa-caaa-466d-988c-4b8707737859"
      },
      "source": [
        "# Downloading Data\n",
        "!curl -O https://sid.erda.dk/public/archives/daaeac0d7ce1152aea9b61d9f1e19370/GTSRB_Final_Training_Images.zip\n",
        "!curl -O https://sid.erda.dk/public/archives/daaeac0d7ce1152aea9b61d9f1e19370/GTSRB_Final_Test_Images.zip\n",
        "!curl -O https://sid.erda.dk/public/archives/daaeac0d7ce1152aea9b61d9f1e19370/GTSRB_Final_Test_GT.zip"
      ],
      "execution_count": 44,
      "outputs": [
        {
          "output_type": "stream",
          "text": [
            "  % Total    % Received % Xferd  Average Speed   Time    Time     Time  Current\n",
            "                                 Dload  Upload   Total   Spent    Left  Speed\n",
            "100  263M  100  263M    0     0  19.8M      0  0:00:13  0:00:13 --:--:-- 23.7M\n"
          ],
          "name": "stdout"
        }
      ]
    },
    {
      "cell_type": "code",
      "metadata": {
        "id": "EqlLT4jWZRdo"
      },
      "source": [
        "!unzip -q GTSRB_Final_Training_Images.zip"
      ],
      "execution_count": 4,
      "outputs": []
    },
    {
      "cell_type": "code",
      "metadata": {
        "id": "eY3b37tLZkMz"
      },
      "source": [
        "TRAINING_CSV_PATH = './GTSRB/Final_Training/Images/*/*.csv'\n",
        "\n",
        "IMAGE_WIDTH = 30\n",
        "IMAGE_HEIGHT = IMAGE_WIDTH"
      ],
      "execution_count": 9,
      "outputs": []
    },
    {
      "cell_type": "code",
      "metadata": {
        "colab": {
          "base_uri": "https://localhost:8080/",
          "height": 35
        },
        "id": "h0cBO2ffZqM5",
        "outputId": "b325634d-642b-4e87-a732-879d2148f653"
      },
      "source": [
        "os.path.dirname(TRAINING_CSV_PATH)"
      ],
      "execution_count": 10,
      "outputs": [
        {
          "output_type": "execute_result",
          "data": {
            "application/vnd.google.colaboratory.intrinsic+json": {
              "type": "string"
            },
            "text/plain": [
              "'./GTSRB/Final_Training/Images/*'"
            ]
          },
          "metadata": {
            "tags": []
          },
          "execution_count": 10
        }
      ]
    },
    {
      "cell_type": "code",
      "metadata": {
        "id": "r9Lln-CEZswG"
      },
      "source": [
        "def build_images_database(path):\n",
        "    \"\"\"Build a pandas DataFrame with all images information.\n",
        "    \n",
        "    Parameters\n",
        "    ----------\n",
        "    path: path pattern to read csv files containing images information\n",
        "    \n",
        "    Returns\n",
        "    -------\n",
        "    A pandas DataFrame with one line per image\n",
        "    \"\"\"\n",
        "    df_list = []\n",
        "    for filename in glob.glob(path):\n",
        "        df = pd.read_csv(filename, sep=';')\n",
        "        df['path'] = os.path.dirname(filename) + '/' + df['Filename']\n",
        "        df_list.append(df)\n",
        "    \n",
        "    return pd.concat(df_list, ignore_index=True)\n",
        "\n",
        "\n",
        "def build_images_list(filename_list, boxes_list=None):\n",
        "    \"\"\"Build a list of images as Numpy array\n",
        "    \n",
        "    Parameters\n",
        "    ----------\n",
        "    filename_list: list of images filenames\n",
        "    boxes_list: optional list of boxes for clipping within images. Boxes are 4-tuples (x1, y1, x2, y2).\n",
        "    \n",
        "    Returns\n",
        "    -------\n",
        "    A list of images as Numpy arrays\n",
        "    \n",
        "    \"\"\"\n",
        "    \n",
        "    # If no boxes_list is given, generate a fake boxes list with None boxes\n",
        "    # image.resize will take full size images if argument box == None\n",
        "    if boxes_list is None:\n",
        "        boxes_list = [None] * len(filename_list)\n",
        "        \n",
        "    assert len(filename_list) == len(boxes_list), \"filenames and boxes lists must have the same length\"\n",
        "    \n",
        "    images_list = []\n",
        "    for (filename, image_box) in zip(filename_list, boxes_list):\n",
        "        image = Image.open(filename)\n",
        "        image = image.resize((IMAGE_WIDTH, IMAGE_HEIGHT), box=image_box) # box argument clips image to (x1, y1, x2, y2)\n",
        "        image = np.array(image)\n",
        "        image = image.flatten()\n",
        "        images_list.append(image)\n",
        "        \n",
        "    return images_list\n",
        "\n",
        "\n",
        "def build_classes_array(df, col_name='ClassId'):\n",
        "    \"\"\"Build a vector (numpy array) of classes\n",
        "    \n",
        "    Parameters\n",
        "    ----------\n",
        "    df: pandas DataFrame with a column containing classes id\n",
        "    \n",
        "    Returns\n",
        "    -------\n",
        "    Numpy array with image classes\n",
        "    \n",
        "    \"\"\"\n",
        "    return df[col_name].values"
      ],
      "execution_count": 11,
      "outputs": []
    },
    {
      "cell_type": "code",
      "metadata": {
        "colab": {
          "base_uri": "https://localhost:8080/",
          "height": 204
        },
        "id": "4Cgc8xNrZ0ar",
        "outputId": "8d8385e1-ef09-4831-de17-6a3ee4cf632a"
      },
      "source": [
        "images_df = build_images_database(TRAINING_CSV_PATH)\n",
        "images_df.head()"
      ],
      "execution_count": 12,
      "outputs": [
        {
          "output_type": "execute_result",
          "data": {
            "text/html": [
              "<div>\n",
              "<style scoped>\n",
              "    .dataframe tbody tr th:only-of-type {\n",
              "        vertical-align: middle;\n",
              "    }\n",
              "\n",
              "    .dataframe tbody tr th {\n",
              "        vertical-align: top;\n",
              "    }\n",
              "\n",
              "    .dataframe thead th {\n",
              "        text-align: right;\n",
              "    }\n",
              "</style>\n",
              "<table border=\"1\" class=\"dataframe\">\n",
              "  <thead>\n",
              "    <tr style=\"text-align: right;\">\n",
              "      <th></th>\n",
              "      <th>Filename</th>\n",
              "      <th>Width</th>\n",
              "      <th>Height</th>\n",
              "      <th>Roi.X1</th>\n",
              "      <th>Roi.Y1</th>\n",
              "      <th>Roi.X2</th>\n",
              "      <th>Roi.Y2</th>\n",
              "      <th>ClassId</th>\n",
              "      <th>path</th>\n",
              "    </tr>\n",
              "  </thead>\n",
              "  <tbody>\n",
              "    <tr>\n",
              "      <th>0</th>\n",
              "      <td>00000_00000.ppm</td>\n",
              "      <td>81</td>\n",
              "      <td>82</td>\n",
              "      <td>7</td>\n",
              "      <td>8</td>\n",
              "      <td>74</td>\n",
              "      <td>75</td>\n",
              "      <td>39</td>\n",
              "      <td>./GTSRB/Final_Training/Images/00039/00000_0000...</td>\n",
              "    </tr>\n",
              "    <tr>\n",
              "      <th>1</th>\n",
              "      <td>00000_00001.ppm</td>\n",
              "      <td>81</td>\n",
              "      <td>81</td>\n",
              "      <td>7</td>\n",
              "      <td>7</td>\n",
              "      <td>74</td>\n",
              "      <td>74</td>\n",
              "      <td>39</td>\n",
              "      <td>./GTSRB/Final_Training/Images/00039/00000_0000...</td>\n",
              "    </tr>\n",
              "    <tr>\n",
              "      <th>2</th>\n",
              "      <td>00000_00002.ppm</td>\n",
              "      <td>82</td>\n",
              "      <td>81</td>\n",
              "      <td>8</td>\n",
              "      <td>7</td>\n",
              "      <td>75</td>\n",
              "      <td>74</td>\n",
              "      <td>39</td>\n",
              "      <td>./GTSRB/Final_Training/Images/00039/00000_0000...</td>\n",
              "    </tr>\n",
              "    <tr>\n",
              "      <th>3</th>\n",
              "      <td>00000_00003.ppm</td>\n",
              "      <td>83</td>\n",
              "      <td>82</td>\n",
              "      <td>7</td>\n",
              "      <td>7</td>\n",
              "      <td>75</td>\n",
              "      <td>75</td>\n",
              "      <td>39</td>\n",
              "      <td>./GTSRB/Final_Training/Images/00039/00000_0000...</td>\n",
              "    </tr>\n",
              "    <tr>\n",
              "      <th>4</th>\n",
              "      <td>00000_00004.ppm</td>\n",
              "      <td>85</td>\n",
              "      <td>85</td>\n",
              "      <td>8</td>\n",
              "      <td>8</td>\n",
              "      <td>78</td>\n",
              "      <td>78</td>\n",
              "      <td>39</td>\n",
              "      <td>./GTSRB/Final_Training/Images/00039/00000_0000...</td>\n",
              "    </tr>\n",
              "  </tbody>\n",
              "</table>\n",
              "</div>"
            ],
            "text/plain": [
              "          Filename  ...                                               path\n",
              "0  00000_00000.ppm  ...  ./GTSRB/Final_Training/Images/00039/00000_0000...\n",
              "1  00000_00001.ppm  ...  ./GTSRB/Final_Training/Images/00039/00000_0000...\n",
              "2  00000_00002.ppm  ...  ./GTSRB/Final_Training/Images/00039/00000_0000...\n",
              "3  00000_00003.ppm  ...  ./GTSRB/Final_Training/Images/00039/00000_0000...\n",
              "4  00000_00004.ppm  ...  ./GTSRB/Final_Training/Images/00039/00000_0000...\n",
              "\n",
              "[5 rows x 9 columns]"
            ]
          },
          "metadata": {
            "tags": []
          },
          "execution_count": 12
        }
      ]
    },
    {
      "cell_type": "code",
      "metadata": {
        "colab": {
          "base_uri": "https://localhost:8080/"
        },
        "id": "wLg95JzebyiW",
        "outputId": "e6d0265c-09d8-4cfb-ad15-0242621d316d"
      },
      "source": [
        "N = 10_000\n",
        "N = None # Take all\n",
        "\n",
        "if N is None:\n",
        "  images_list = build_images_list(images_df['path'].values,\n",
        "                                  images_df.apply(lambda r: (r['Roi.X1'], r['Roi.Y1'], r['Roi.X2'], r['Roi.Y2']),\n",
        "                                                        axis=1).values)\n",
        "  data = np.array(images_list)\n",
        "  labels = build_classes_array(images_df)\n",
        "else:\n",
        "  images_list = build_images_list(images_df.head(N)['path'].values,\n",
        "                                  images_df.head(N).apply(lambda r: (r['Roi.X1'], r['Roi.Y1'], r['Roi.X2'], r['Roi.Y2']),\n",
        "                                                            axis=1).values)\n",
        "  data = np.array(images_list)\n",
        "  labels = build_classes_array(images_df)[:N]\n",
        "\n",
        "print(data.shape, labels.shape)"
      ],
      "execution_count": 14,
      "outputs": [
        {
          "output_type": "stream",
          "text": [
            "(39209, 2700) (39209,)\n"
          ],
          "name": "stdout"
        }
      ]
    },
    {
      "cell_type": "code",
      "metadata": {
        "colab": {
          "base_uri": "https://localhost:8080/"
        },
        "id": "Oapx36i6bywM",
        "outputId": "b7695457-a2ea-4ce1-f39a-ff7b22c1e4d1"
      },
      "source": [
        "#Splitting training and testing dataset\n",
        "X_train, X_test, y_train, y_test = train_test_split(data, labels, test_size=0.2, random_state=42)\n",
        "\n",
        "print(X_train.shape, X_test.shape, y_train.shape, y_test.shape)"
      ],
      "execution_count": 16,
      "outputs": [
        {
          "output_type": "stream",
          "text": [
            "(31367, 2700) (7842, 2700) (31367,) (7842,)\n"
          ],
          "name": "stdout"
        }
      ]
    },
    {
      "cell_type": "code",
      "metadata": {
        "id": "OC0JJwODbyz5"
      },
      "source": [
        ""
      ],
      "execution_count": null,
      "outputs": []
    },
    {
      "cell_type": "markdown",
      "metadata": {
        "id": "xtheDWCBbB10"
      },
      "source": [
        "### Trainning our SVM"
      ]
    },
    {
      "cell_type": "code",
      "metadata": {
        "colab": {
          "base_uri": "https://localhost:8080/"
        },
        "id": "SmXZ-62mZ3Hi",
        "outputId": "ced9b78d-f6b5-4597-fb3b-5c1e6458acbd"
      },
      "source": [
        "svclassifier = SVC(C=1, kernel='linear')\n",
        "svclassifier.fit(X_train, y_train)"
      ],
      "execution_count": 21,
      "outputs": [
        {
          "output_type": "execute_result",
          "data": {
            "text/plain": [
              "SVC(C=1, break_ties=False, cache_size=200, class_weight=None, coef0=0.0,\n",
              "    decision_function_shape='ovr', degree=3, gamma='scale', kernel='linear',\n",
              "    max_iter=-1, probability=False, random_state=None, shrinking=True,\n",
              "    tol=0.001, verbose=False)"
            ]
          },
          "metadata": {
            "tags": []
          },
          "execution_count": 21
        }
      ]
    },
    {
      "cell_type": "code",
      "metadata": {
        "id": "GhfD0Z4jgLFq"
      },
      "source": [
        "# Saving Model\n",
        "filepath = \"svm_model.pkl\"\n",
        "with gzip.open(filepath, \"wb\") as f:\n",
        "  pickled = pickle.dumps(svclassifier)\n",
        "  optimized_pickle = pickletools.optimize(pickled)\n",
        "  f.write(optimized_pickle)"
      ],
      "execution_count": 29,
      "outputs": []
    },
    {
      "cell_type": "markdown",
      "metadata": {
        "id": "fKeMd1NLgUe2"
      },
      "source": [
        "### Testing the model"
      ]
    },
    {
      "cell_type": "code",
      "metadata": {
        "id": "JUNDJPsWinnp"
      },
      "source": [
        "# Load the model\n",
        "with gzip.open(filepath, 'rb') as f:\n",
        "  p = pickle.Unpickler(f)\n",
        "  loaded_model = p.load()"
      ],
      "execution_count": 30,
      "outputs": []
    },
    {
      "cell_type": "code",
      "metadata": {
        "id": "x1sP9UK-gKm2"
      },
      "source": [
        "def classify_image(path, model, image_box=None):\n",
        "  \"\"\"Classify image by model\n",
        "\n",
        "  Parameters\n",
        "  ----------\n",
        "  path: filepath to image\n",
        "  model: tf/keras classifier\n",
        "\n",
        "  Returns\n",
        "  -------\n",
        "  class id returned by model classifier\n",
        "  \"\"\"\n",
        "  images_list = []\n",
        "  image = Image.open(path)\n",
        "  image = image.resize((IMAGE_WIDTH, IMAGE_HEIGHT), box=image_box) # box argument clips image to (x1, y1, x2, y2)\n",
        "  image = np.array(image)\n",
        "  image = image.flatten()\n",
        "  images_list.append(image)\n",
        "  \n",
        "  return model.predict(np.array(images_list))"
      ],
      "execution_count": 25,
      "outputs": []
    },
    {
      "cell_type": "code",
      "metadata": {
        "colab": {
          "base_uri": "https://localhost:8080/"
        },
        "id": "TQr5trm8gLCL",
        "outputId": "be109bf5-5351-49bb-a981-dd03304dd113"
      },
      "source": [
        "image_sample = images_df.sample(1)\n",
        "\n",
        "classify_image(image_sample['path'].values[0],\n",
        "               loaded_model,\n",
        "               image_sample.apply(lambda r: (r['Roi.X1'], r['Roi.Y1'], r['Roi.X2'], r['Roi.Y2']),\n",
        "                                  axis=1).values[0]\n",
        "               )"
      ],
      "execution_count": 26,
      "outputs": [
        {
          "output_type": "execute_result",
          "data": {
            "text/plain": [
              "array([15])"
            ]
          },
          "metadata": {
            "tags": []
          },
          "execution_count": 26
        }
      ]
    },
    {
      "cell_type": "code",
      "metadata": {
        "colab": {
          "base_uri": "https://localhost:8080/"
        },
        "id": "QIchFHLEi02t",
        "outputId": "344b2792-3ae2-45d4-fca2-7562e0fee8b0"
      },
      "source": [
        "loaded_model.score(X_test, y_test)"
      ],
      "execution_count": 31,
      "outputs": [
        {
          "output_type": "execute_result",
          "data": {
            "text/plain": [
              "0.9711808212190768"
            ]
          },
          "metadata": {
            "tags": []
          },
          "execution_count": 31
        }
      ]
    },
    {
      "cell_type": "code",
      "metadata": {
        "id": "Tr2qn3hbbJt6"
      },
      "source": [
        "# Saving the model\n",
        "import pickle\n",
        "filename = 'pickle_model.pkl'\n",
        "pickle.dump(clf, open(filename, 'wb'))"
      ],
      "execution_count": null,
      "outputs": []
    },
    {
      "cell_type": "code",
      "metadata": {
        "id": "dahHkRhhkc6g"
      },
      "source": [
        "!unzip -q GTSRB_Final_Test_Images.zip"
      ],
      "execution_count": 35,
      "outputs": []
    },
    {
      "cell_type": "code",
      "metadata": {
        "colab": {
          "base_uri": "https://localhost:8080/"
        },
        "id": "vwIE44iXkKvL",
        "outputId": "b14a7344-651f-43b6-f433-300603ce29fb"
      },
      "source": [
        "!unzip GTSRB_Final_Test_GT.zip"
      ],
      "execution_count": 32,
      "outputs": [
        {
          "output_type": "stream",
          "text": [
            "Archive:  GTSRB_Final_Test_GT.zip\n",
            "  inflating: GT-final_test.csv       \n"
          ],
          "name": "stdout"
        }
      ]
    },
    {
      "cell_type": "code",
      "metadata": {
        "colab": {
          "base_uri": "https://localhost:8080/",
          "height": 204
        },
        "id": "gdN5yQGXkKx_",
        "outputId": "3d6f5d41-0f1a-4bdc-8710-50c3fd2f25c7"
      },
      "source": [
        "test_images_df = pd.read_csv('GT-final_test.csv', sep=';')\n",
        "test_images_df['path'] = test_images_df['Filename'].apply(lambda x: './GTSRB/Final_Test/Images/' + x)\n",
        "test_images_df.tail()"
      ],
      "execution_count": 33,
      "outputs": [
        {
          "output_type": "execute_result",
          "data": {
            "text/html": [
              "<div>\n",
              "<style scoped>\n",
              "    .dataframe tbody tr th:only-of-type {\n",
              "        vertical-align: middle;\n",
              "    }\n",
              "\n",
              "    .dataframe tbody tr th {\n",
              "        vertical-align: top;\n",
              "    }\n",
              "\n",
              "    .dataframe thead th {\n",
              "        text-align: right;\n",
              "    }\n",
              "</style>\n",
              "<table border=\"1\" class=\"dataframe\">\n",
              "  <thead>\n",
              "    <tr style=\"text-align: right;\">\n",
              "      <th></th>\n",
              "      <th>Filename</th>\n",
              "      <th>Width</th>\n",
              "      <th>Height</th>\n",
              "      <th>Roi.X1</th>\n",
              "      <th>Roi.Y1</th>\n",
              "      <th>Roi.X2</th>\n",
              "      <th>Roi.Y2</th>\n",
              "      <th>ClassId</th>\n",
              "      <th>path</th>\n",
              "    </tr>\n",
              "  </thead>\n",
              "  <tbody>\n",
              "    <tr>\n",
              "      <th>12625</th>\n",
              "      <td>12625.ppm</td>\n",
              "      <td>42</td>\n",
              "      <td>41</td>\n",
              "      <td>5</td>\n",
              "      <td>6</td>\n",
              "      <td>37</td>\n",
              "      <td>36</td>\n",
              "      <td>12</td>\n",
              "      <td>./GTSRB/Final_Test/Images/12625.ppm</td>\n",
              "    </tr>\n",
              "    <tr>\n",
              "      <th>12626</th>\n",
              "      <td>12626.ppm</td>\n",
              "      <td>50</td>\n",
              "      <td>51</td>\n",
              "      <td>6</td>\n",
              "      <td>5</td>\n",
              "      <td>45</td>\n",
              "      <td>46</td>\n",
              "      <td>33</td>\n",
              "      <td>./GTSRB/Final_Test/Images/12626.ppm</td>\n",
              "    </tr>\n",
              "    <tr>\n",
              "      <th>12627</th>\n",
              "      <td>12627.ppm</td>\n",
              "      <td>29</td>\n",
              "      <td>29</td>\n",
              "      <td>6</td>\n",
              "      <td>6</td>\n",
              "      <td>24</td>\n",
              "      <td>24</td>\n",
              "      <td>6</td>\n",
              "      <td>./GTSRB/Final_Test/Images/12627.ppm</td>\n",
              "    </tr>\n",
              "    <tr>\n",
              "      <th>12628</th>\n",
              "      <td>12628.ppm</td>\n",
              "      <td>48</td>\n",
              "      <td>49</td>\n",
              "      <td>5</td>\n",
              "      <td>6</td>\n",
              "      <td>43</td>\n",
              "      <td>44</td>\n",
              "      <td>7</td>\n",
              "      <td>./GTSRB/Final_Test/Images/12628.ppm</td>\n",
              "    </tr>\n",
              "    <tr>\n",
              "      <th>12629</th>\n",
              "      <td>12629.ppm</td>\n",
              "      <td>32</td>\n",
              "      <td>31</td>\n",
              "      <td>6</td>\n",
              "      <td>5</td>\n",
              "      <td>27</td>\n",
              "      <td>26</td>\n",
              "      <td>10</td>\n",
              "      <td>./GTSRB/Final_Test/Images/12629.ppm</td>\n",
              "    </tr>\n",
              "  </tbody>\n",
              "</table>\n",
              "</div>"
            ],
            "text/plain": [
              "        Filename  Width  ...  ClassId                                 path\n",
              "12625  12625.ppm     42  ...       12  ./GTSRB/Final_Test/Images/12625.ppm\n",
              "12626  12626.ppm     50  ...       33  ./GTSRB/Final_Test/Images/12626.ppm\n",
              "12627  12627.ppm     29  ...        6  ./GTSRB/Final_Test/Images/12627.ppm\n",
              "12628  12628.ppm     48  ...        7  ./GTSRB/Final_Test/Images/12628.ppm\n",
              "12629  12629.ppm     32  ...       10  ./GTSRB/Final_Test/Images/12629.ppm\n",
              "\n",
              "[5 rows x 9 columns]"
            ]
          },
          "metadata": {
            "tags": []
          },
          "execution_count": 33
        }
      ]
    },
    {
      "cell_type": "code",
      "metadata": {
        "id": "dAe7mu87kK03"
      },
      "source": [
        "test_list = build_images_list(test_images_df['path'].values,\n",
        "                              test_images_df.apply(lambda r: (r['Roi.X1'], r['Roi.Y1'], r['Roi.X2'], r['Roi.Y2']),\n",
        "                                                   axis=1).values)\n",
        "test_data = np.array(test_list)\n",
        "test_labels = build_classes_array(test_images_df)"
      ],
      "execution_count": 36,
      "outputs": []
    },
    {
      "cell_type": "code",
      "metadata": {
        "id": "gi6VvWptkK36"
      },
      "source": [
        "results = loaded_model.predict(test_data)"
      ],
      "execution_count": 37,
      "outputs": []
    },
    {
      "cell_type": "code",
      "metadata": {
        "colab": {
          "base_uri": "https://localhost:8080/"
        },
        "id": "eFyk5AGuk4V4",
        "outputId": "85ab1f8f-63c3-41fd-8466-23b6ee03d1cc"
      },
      "source": [
        "(test_labels == results).sum() / test_labels.shape[0]"
      ],
      "execution_count": 38,
      "outputs": [
        {
          "output_type": "execute_result",
          "data": {
            "text/plain": [
              "0.8735550277117973"
            ]
          },
          "metadata": {
            "tags": []
          },
          "execution_count": 38
        }
      ]
    },
    {
      "cell_type": "code",
      "metadata": {
        "id": "29kF_WF6k4Ym"
      },
      "source": [
        "accuracy_df = pd.DataFrame()\n",
        "accuracy_df['actual'] = test_labels\n",
        "accuracy_df['predicted'] = results"
      ],
      "execution_count": 39,
      "outputs": []
    },
    {
      "cell_type": "code",
      "metadata": {
        "colab": {
          "base_uri": "https://localhost:8080/",
          "height": 204
        },
        "id": "4iP1-EC5k4cI",
        "outputId": "77666af5-360f-454e-8f46-23f8e183936e"
      },
      "source": [
        "accuracy_df.head()"
      ],
      "execution_count": 40,
      "outputs": [
        {
          "output_type": "execute_result",
          "data": {
            "text/html": [
              "<div>\n",
              "<style scoped>\n",
              "    .dataframe tbody tr th:only-of-type {\n",
              "        vertical-align: middle;\n",
              "    }\n",
              "\n",
              "    .dataframe tbody tr th {\n",
              "        vertical-align: top;\n",
              "    }\n",
              "\n",
              "    .dataframe thead th {\n",
              "        text-align: right;\n",
              "    }\n",
              "</style>\n",
              "<table border=\"1\" class=\"dataframe\">\n",
              "  <thead>\n",
              "    <tr style=\"text-align: right;\">\n",
              "      <th></th>\n",
              "      <th>actual</th>\n",
              "      <th>predicted</th>\n",
              "    </tr>\n",
              "  </thead>\n",
              "  <tbody>\n",
              "    <tr>\n",
              "      <th>0</th>\n",
              "      <td>16</td>\n",
              "      <td>16</td>\n",
              "    </tr>\n",
              "    <tr>\n",
              "      <th>1</th>\n",
              "      <td>1</td>\n",
              "      <td>1</td>\n",
              "    </tr>\n",
              "    <tr>\n",
              "      <th>2</th>\n",
              "      <td>38</td>\n",
              "      <td>38</td>\n",
              "    </tr>\n",
              "    <tr>\n",
              "      <th>3</th>\n",
              "      <td>33</td>\n",
              "      <td>33</td>\n",
              "    </tr>\n",
              "    <tr>\n",
              "      <th>4</th>\n",
              "      <td>11</td>\n",
              "      <td>11</td>\n",
              "    </tr>\n",
              "  </tbody>\n",
              "</table>\n",
              "</div>"
            ],
            "text/plain": [
              "   actual  predicted\n",
              "0      16         16\n",
              "1       1          1\n",
              "2      38         38\n",
              "3      33         33\n",
              "4      11         11"
            ]
          },
          "metadata": {
            "tags": []
          },
          "execution_count": 40
        }
      ]
    },
    {
      "cell_type": "code",
      "metadata": {
        "colab": {
          "base_uri": "https://localhost:8080/",
          "height": 608
        },
        "id": "lCAjdqH2kLAp",
        "outputId": "e8893d65-e81b-4bb6-ff88-42a73cd5954f"
      },
      "source": [
        "import seaborn as sns\n",
        "fig, ax = plt.subplots(figsize=(12, 10))\n",
        "sns.heatmap(pd.crosstab(accuracy_df['actual'], accuracy_df['predicted'], normalize='index'),\n",
        "            cmap='vlag',\n",
        "            ax=ax);"
      ],
      "execution_count": 43,
      "outputs": [
        {
          "output_type": "display_data",
          "data": {
            "image/png": "[encoded data removed]",
            "text/plain": [
              "<Figure size 864x720 with 2 Axes>"
            ]
          },
          "metadata": {
            "tags": [],
            "needs_background": "light"
          }
        }
      ]
    },
    {
      "cell_type": "markdown",
      "metadata": {
        "id": "6w7LAHFspk6a"
      },
      "source": [
        "**Les resultats du SVM sont moins bien que le reseau de neurone profond. Ce qui est conforme a ce qu'on pourrait s'attendre**"
      ]
    },
    {
      "cell_type": "code",
      "metadata": {
        "id": "VGUEIZCZpn4g"
      },
      "source": [
        ""
      ],
      "execution_count": null,
      "outputs": []
    }
  ]
}